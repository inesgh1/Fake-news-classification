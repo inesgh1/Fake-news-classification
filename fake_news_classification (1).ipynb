{
  "metadata": {
    "kernelspec": {
      "language": "python",
      "display_name": "Python 3",
      "name": "python3"
    },
    "language_info": {
      "pygments_lexer": "ipython3",
      "nbconvert_exporter": "python",
      "version": "3.6.4",
      "file_extension": ".py",
      "codemirror_mode": {
        "name": "ipython",
        "version": 3
      },
      "name": "python",
      "mimetype": "text/x-python"
    },
    "colab": {
      "name": "fake_news_classification.ipynb",
      "provenance": [],
      "collapsed_sections": []
    }
  },
  "nbformat_minor": 0,
  "nbformat": 4,
  "cells": [
    {
      "cell_type": "markdown",
      "source": [
        "\n",
        "\n",
        "# Notebook Content\n",
        "1. Importing Libraries and The Data\n",
        "1. Data Overview\n",
        "1. Data Preprocessing\n",
        "    1. Other Preprocessings\n",
        "    1. Natural Language Processing\n",
        "1. Building Model Using Pytorch\n",
        "1. Fitting Model Using Pytorch\n",
        "1. Evaulating Results\n",
        "1. What Did We Do?\n",
        "1. Conclusion"
      ],
      "metadata": {
        "id": "ciy-N9rksfF_"
      }
    },
    {
      "cell_type": "markdown",
      "source": [
        "# Importing Libraries and The Data\n",
        "\n",
        "In this section I am going to import libraries and the data that I need."
      ],
      "metadata": {
        "id": "RK72UPiesfGH"
      }
    },
    {
      "cell_type": "code",
      "source": [
        "\n",
        "\n",
        "\n",
        "\"\"\"\n",
        "DATA MANIPULATİNG\n",
        "\"\"\"\n",
        "import numpy as np # linear algebra\n",
        "import pandas as pd # data processing, CSV file I/O (e.g. pd.read_csv)\n",
        "\n",
        "\"\"\"\n",
        "NATURAL LANGUAGE PROCESSING\n",
        "\"\"\"\n",
        "import re \n",
        "import nltk \n",
        "nltk.download('punkt')\n",
        "nltk.download('wordnet')\n",
        "from sklearn.feature_extraction.text import CountVectorizer\n",
        "\n",
        "\"\"\"\n",
        "PYTORCH\n",
        "\"\"\"\n",
        "\n",
        "import torch\n",
        "import torch.nn as nn\n",
        "\n",
        "\n",
        "\"\"\"\n",
        "VISUALIZATION TOOLS\n",
        "\"\"\"\n",
        "\n",
        "import matplotlib.pyplot as plt\n",
        "import seaborn as sns\n",
        "\n",
        "\"\"\"\n",
        "TRAIN TEST SPLIT\n",
        "\"\"\"\n",
        "from sklearn.model_selection import train_test_split\n",
        "\n",
        "# Input data files are available in the read-only \"../input/\" directory\n",
        "# For example, running this (by clicking run or pressing Shift+Enter) will list all files under the input directory\n",
        "\n",
        "import os\n",
        "for dirname, _, filenames in os.walk('/kaggle/input'):\n",
        "    for filename in filenames:\n",
        "        print(os.path.join(dirname, filename))\n",
        "\n",
        "# You can write up to 5GB to the current directory (/kaggle/working/) that gets preserved as output when you create a version using \"Save & Run All\" \n",
        "# You can also write temporary files to /kaggle/temp/, but they won't be saved outside of the current session"
      ],
      "metadata": {
        "_uuid": "8f2839f25d086af736a60e9eeb907d3b93b6e0e5",
        "_cell_guid": "b1076dfc-b9ad-4769-8c92-a6c4dae69d19",
        "trusted": true,
        "colab": {
          "base_uri": "https://localhost:8080/"
        },
        "id": "kI_FAKd9sfGJ",
        "outputId": "eac64ec8-0226-4ea5-e28a-a826a5baccc8"
      },
      "execution_count": null,
      "outputs": [
        {
          "output_type": "stream",
          "name": "stdout",
          "text": [
            "[nltk_data] Downloading package punkt to /root/nltk_data...\n",
            "[nltk_data]   Package punkt is already up-to-date!\n",
            "[nltk_data] Downloading package wordnet to /root/nltk_data...\n",
            "[nltk_data]   Unzipping corpora/wordnet.zip.\n"
          ]
        }
      ]
    },
    {
      "cell_type": "code",
      "source": [
        "true_data = pd.read_csv('True.csv')\n",
        "fake_data = pd.read_csv('Fake.csv')\n",
        "true_data.head()"
      ],
      "metadata": {
        "_uuid": "d629ff2d2480ee46fbb7e2d37f6b5fab8052498a",
        "_cell_guid": "79c7e3d0-c299-4dcb-8224-4455121ee9b0",
        "trusted": true,
        "colab": {
          "base_uri": "https://localhost:8080/",
          "height": 250
        },
        "id": "fpTdJlIfsfGM",
        "outputId": "390ce8f8-4ab3-4c07-a2d9-767937990e0a"
      },
      "execution_count": null,
      "outputs": [
        {
          "output_type": "execute_result",
          "data": {
            "text/plain": [
              "                                               title  \\\n",
              "0  As U.S. budget fight looms, Republicans flip t...   \n",
              "1  U.S. military to accept transgender recruits o...   \n",
              "2  Senior U.S. Republican senator: 'Let Mr. Muell...   \n",
              "3  FBI Russia probe helped by Australian diplomat...   \n",
              "4  Trump wants Postal Service to charge 'much mor...   \n",
              "\n",
              "                                                text       subject  \\\n",
              "0  WASHINGTON (Reuters) - The head of a conservat...  politicsNews   \n",
              "1  WASHINGTON (Reuters) - Transgender people will...  politicsNews   \n",
              "2  WASHINGTON (Reuters) - The special counsel inv...  politicsNews   \n",
              "3  WASHINGTON (Reuters) - Trump campaign adviser ...  politicsNews   \n",
              "4  SEATTLE/WASHINGTON (Reuters) - President Donal...  politicsNews   \n",
              "\n",
              "                 date  \n",
              "0  December 31, 2017   \n",
              "1  December 29, 2017   \n",
              "2  December 31, 2017   \n",
              "3  December 30, 2017   \n",
              "4  December 29, 2017   "
            ],
            "text/html": [
              "\n",
              "  <div id=\"df-0beb2432-c812-44fc-be96-71008e92260f\">\n",
              "    <div class=\"colab-df-container\">\n",
              "      <div>\n",
              "<style scoped>\n",
              "    .dataframe tbody tr th:only-of-type {\n",
              "        vertical-align: middle;\n",
              "    }\n",
              "\n",
              "    .dataframe tbody tr th {\n",
              "        vertical-align: top;\n",
              "    }\n",
              "\n",
              "    .dataframe thead th {\n",
              "        text-align: right;\n",
              "    }\n",
              "</style>\n",
              "<table border=\"1\" class=\"dataframe\">\n",
              "  <thead>\n",
              "    <tr style=\"text-align: right;\">\n",
              "      <th></th>\n",
              "      <th>title</th>\n",
              "      <th>text</th>\n",
              "      <th>subject</th>\n",
              "      <th>date</th>\n",
              "    </tr>\n",
              "  </thead>\n",
              "  <tbody>\n",
              "    <tr>\n",
              "      <th>0</th>\n",
              "      <td>As U.S. budget fight looms, Republicans flip t...</td>\n",
              "      <td>WASHINGTON (Reuters) - The head of a conservat...</td>\n",
              "      <td>politicsNews</td>\n",
              "      <td>December 31, 2017</td>\n",
              "    </tr>\n",
              "    <tr>\n",
              "      <th>1</th>\n",
              "      <td>U.S. military to accept transgender recruits o...</td>\n",
              "      <td>WASHINGTON (Reuters) - Transgender people will...</td>\n",
              "      <td>politicsNews</td>\n",
              "      <td>December 29, 2017</td>\n",
              "    </tr>\n",
              "    <tr>\n",
              "      <th>2</th>\n",
              "      <td>Senior U.S. Republican senator: 'Let Mr. Muell...</td>\n",
              "      <td>WASHINGTON (Reuters) - The special counsel inv...</td>\n",
              "      <td>politicsNews</td>\n",
              "      <td>December 31, 2017</td>\n",
              "    </tr>\n",
              "    <tr>\n",
              "      <th>3</th>\n",
              "      <td>FBI Russia probe helped by Australian diplomat...</td>\n",
              "      <td>WASHINGTON (Reuters) - Trump campaign adviser ...</td>\n",
              "      <td>politicsNews</td>\n",
              "      <td>December 30, 2017</td>\n",
              "    </tr>\n",
              "    <tr>\n",
              "      <th>4</th>\n",
              "      <td>Trump wants Postal Service to charge 'much mor...</td>\n",
              "      <td>SEATTLE/WASHINGTON (Reuters) - President Donal...</td>\n",
              "      <td>politicsNews</td>\n",
              "      <td>December 29, 2017</td>\n",
              "    </tr>\n",
              "  </tbody>\n",
              "</table>\n",
              "</div>\n",
              "      <button class=\"colab-df-convert\" onclick=\"convertToInteractive('df-0beb2432-c812-44fc-be96-71008e92260f')\"\n",
              "              title=\"Convert this dataframe to an interactive table.\"\n",
              "              style=\"display:none;\">\n",
              "        \n",
              "  <svg xmlns=\"http://www.w3.org/2000/svg\" height=\"24px\"viewBox=\"0 0 24 24\"\n",
              "       width=\"24px\">\n",
              "    <path d=\"M0 0h24v24H0V0z\" fill=\"none\"/>\n",
              "    <path d=\"M18.56 5.44l.94 2.06.94-2.06 2.06-.94-2.06-.94-.94-2.06-.94 2.06-2.06.94zm-11 1L8.5 8.5l.94-2.06 2.06-.94-2.06-.94L8.5 2.5l-.94 2.06-2.06.94zm10 10l.94 2.06.94-2.06 2.06-.94-2.06-.94-.94-2.06-.94 2.06-2.06.94z\"/><path d=\"M17.41 7.96l-1.37-1.37c-.4-.4-.92-.59-1.43-.59-.52 0-1.04.2-1.43.59L10.3 9.45l-7.72 7.72c-.78.78-.78 2.05 0 2.83L4 21.41c.39.39.9.59 1.41.59.51 0 1.02-.2 1.41-.59l7.78-7.78 2.81-2.81c.8-.78.8-2.07 0-2.86zM5.41 20L4 18.59l7.72-7.72 1.47 1.35L5.41 20z\"/>\n",
              "  </svg>\n",
              "      </button>\n",
              "      \n",
              "  <style>\n",
              "    .colab-df-container {\n",
              "      display:flex;\n",
              "      flex-wrap:wrap;\n",
              "      gap: 12px;\n",
              "    }\n",
              "\n",
              "    .colab-df-convert {\n",
              "      background-color: #E8F0FE;\n",
              "      border: none;\n",
              "      border-radius: 50%;\n",
              "      cursor: pointer;\n",
              "      display: none;\n",
              "      fill: #1967D2;\n",
              "      height: 32px;\n",
              "      padding: 0 0 0 0;\n",
              "      width: 32px;\n",
              "    }\n",
              "\n",
              "    .colab-df-convert:hover {\n",
              "      background-color: #E2EBFA;\n",
              "      box-shadow: 0px 1px 2px rgba(60, 64, 67, 0.3), 0px 1px 3px 1px rgba(60, 64, 67, 0.15);\n",
              "      fill: #174EA6;\n",
              "    }\n",
              "\n",
              "    [theme=dark] .colab-df-convert {\n",
              "      background-color: #3B4455;\n",
              "      fill: #D2E3FC;\n",
              "    }\n",
              "\n",
              "    [theme=dark] .colab-df-convert:hover {\n",
              "      background-color: #434B5C;\n",
              "      box-shadow: 0px 1px 3px 1px rgba(0, 0, 0, 0.15);\n",
              "      filter: drop-shadow(0px 1px 2px rgba(0, 0, 0, 0.3));\n",
              "      fill: #FFFFFF;\n",
              "    }\n",
              "  </style>\n",
              "\n",
              "      <script>\n",
              "        const buttonEl =\n",
              "          document.querySelector('#df-0beb2432-c812-44fc-be96-71008e92260f button.colab-df-convert');\n",
              "        buttonEl.style.display =\n",
              "          google.colab.kernel.accessAllowed ? 'block' : 'none';\n",
              "\n",
              "        async function convertToInteractive(key) {\n",
              "          const element = document.querySelector('#df-0beb2432-c812-44fc-be96-71008e92260f');\n",
              "          const dataTable =\n",
              "            await google.colab.kernel.invokeFunction('convertToInteractive',\n",
              "                                                     [key], {});\n",
              "          if (!dataTable) return;\n",
              "\n",
              "          const docLinkHtml = 'Like what you see? Visit the ' +\n",
              "            '<a target=\"_blank\" href=https://colab.research.google.com/notebooks/data_table.ipynb>data table notebook</a>'\n",
              "            + ' to learn more about interactive tables.';\n",
              "          element.innerHTML = '';\n",
              "          dataTable['output_type'] = 'display_data';\n",
              "          await google.colab.output.renderOutput(dataTable, element);\n",
              "          const docLink = document.createElement('div');\n",
              "          docLink.innerHTML = docLinkHtml;\n",
              "          element.appendChild(docLink);\n",
              "        }\n",
              "      </script>\n",
              "    </div>\n",
              "  </div>\n",
              "  "
            ]
          },
          "metadata": {},
          "execution_count": 45
        }
      ]
    },
    {
      "cell_type": "markdown",
      "source": [
        "* the data does not splitted as train and test. It splitted as true and false, so I'll split them into train and test, but before this I'll concatenate them."
      ],
      "metadata": {
        "id": "ogGRwMGOsfGM"
      }
    },
    {
      "cell_type": "code",
      "source": [
        "true_data.info()"
      ],
      "metadata": {
        "trusted": true,
        "colab": {
          "base_uri": "https://localhost:8080/"
        },
        "id": "IXI4y4BPsfGN",
        "outputId": "f0edad50-08a4-4d17-e62e-139c0419f121"
      },
      "execution_count": null,
      "outputs": [
        {
          "output_type": "stream",
          "name": "stdout",
          "text": [
            "<class 'pandas.core.frame.DataFrame'>\n",
            "RangeIndex: 21417 entries, 0 to 21416\n",
            "Data columns (total 4 columns):\n",
            " #   Column   Non-Null Count  Dtype \n",
            "---  ------   --------------  ----- \n",
            " 0   title    21417 non-null  object\n",
            " 1   text     21417 non-null  object\n",
            " 2   subject  21417 non-null  object\n",
            " 3   date     21417 non-null  object\n",
            "dtypes: object(4)\n",
            "memory usage: 669.4+ KB\n"
          ]
        }
      ]
    },
    {
      "cell_type": "code",
      "source": [
        "fake_data.info()"
      ],
      "metadata": {
        "trusted": true,
        "colab": {
          "base_uri": "https://localhost:8080/"
        },
        "id": "chZWdb71sfGN",
        "outputId": "1c6a8cc2-ee7d-4ae9-f5a9-50576a74ef13"
      },
      "execution_count": null,
      "outputs": [
        {
          "output_type": "stream",
          "name": "stdout",
          "text": [
            "<class 'pandas.core.frame.DataFrame'>\n",
            "RangeIndex: 23481 entries, 0 to 23480\n",
            "Data columns (total 4 columns):\n",
            " #   Column   Non-Null Count  Dtype \n",
            "---  ------   --------------  ----- \n",
            " 0   title    23481 non-null  object\n",
            " 1   text     23481 non-null  object\n",
            " 2   subject  23481 non-null  object\n",
            " 3   date     23481 non-null  object\n",
            "dtypes: object(4)\n",
            "memory usage: 733.9+ KB\n"
          ]
        }
      ]
    },
    {
      "cell_type": "code",
      "source": [
        "# Adding labels \n",
        "true_data[\"label\"] = np.ones(len(true_data),dtype=int)\n",
        "fake_data[\"label\"] = np.zeros(len(fake_data),dtype=int)\n",
        "\n",
        "true_data.head()"
      ],
      "metadata": {
        "trusted": true,
        "colab": {
          "base_uri": "https://localhost:8080/",
          "height": 337
        },
        "id": "FSXeJYuWsfGO",
        "outputId": "3348b596-cd51-4059-d53c-f7c3a8ab514c"
      },
      "execution_count": null,
      "outputs": [
        {
          "output_type": "execute_result",
          "data": {
            "text/plain": [
              "                                               title  \\\n",
              "0  As U.S. budget fight looms, Republicans flip t...   \n",
              "1  U.S. military to accept transgender recruits o...   \n",
              "2  Senior U.S. Republican senator: 'Let Mr. Muell...   \n",
              "3  FBI Russia probe helped by Australian diplomat...   \n",
              "4  Trump wants Postal Service to charge 'much mor...   \n",
              "\n",
              "                                                text       subject  \\\n",
              "0  WASHINGTON (Reuters) - The head of a conservat...  politicsNews   \n",
              "1  WASHINGTON (Reuters) - Transgender people will...  politicsNews   \n",
              "2  WASHINGTON (Reuters) - The special counsel inv...  politicsNews   \n",
              "3  WASHINGTON (Reuters) - Trump campaign adviser ...  politicsNews   \n",
              "4  SEATTLE/WASHINGTON (Reuters) - President Donal...  politicsNews   \n",
              "\n",
              "                 date  label  \n",
              "0  December 31, 2017       1  \n",
              "1  December 29, 2017       1  \n",
              "2  December 31, 2017       1  \n",
              "3  December 30, 2017       1  \n",
              "4  December 29, 2017       1  "
            ],
            "text/html": [
              "\n",
              "  <div id=\"df-f4926426-1cda-466d-929a-1cf34787c66e\">\n",
              "    <div class=\"colab-df-container\">\n",
              "      <div>\n",
              "<style scoped>\n",
              "    .dataframe tbody tr th:only-of-type {\n",
              "        vertical-align: middle;\n",
              "    }\n",
              "\n",
              "    .dataframe tbody tr th {\n",
              "        vertical-align: top;\n",
              "    }\n",
              "\n",
              "    .dataframe thead th {\n",
              "        text-align: right;\n",
              "    }\n",
              "</style>\n",
              "<table border=\"1\" class=\"dataframe\">\n",
              "  <thead>\n",
              "    <tr style=\"text-align: right;\">\n",
              "      <th></th>\n",
              "      <th>title</th>\n",
              "      <th>text</th>\n",
              "      <th>subject</th>\n",
              "      <th>date</th>\n",
              "      <th>label</th>\n",
              "    </tr>\n",
              "  </thead>\n",
              "  <tbody>\n",
              "    <tr>\n",
              "      <th>0</th>\n",
              "      <td>As U.S. budget fight looms, Republicans flip t...</td>\n",
              "      <td>WASHINGTON (Reuters) - The head of a conservat...</td>\n",
              "      <td>politicsNews</td>\n",
              "      <td>December 31, 2017</td>\n",
              "      <td>1</td>\n",
              "    </tr>\n",
              "    <tr>\n",
              "      <th>1</th>\n",
              "      <td>U.S. military to accept transgender recruits o...</td>\n",
              "      <td>WASHINGTON (Reuters) - Transgender people will...</td>\n",
              "      <td>politicsNews</td>\n",
              "      <td>December 29, 2017</td>\n",
              "      <td>1</td>\n",
              "    </tr>\n",
              "    <tr>\n",
              "      <th>2</th>\n",
              "      <td>Senior U.S. Republican senator: 'Let Mr. Muell...</td>\n",
              "      <td>WASHINGTON (Reuters) - The special counsel inv...</td>\n",
              "      <td>politicsNews</td>\n",
              "      <td>December 31, 2017</td>\n",
              "      <td>1</td>\n",
              "    </tr>\n",
              "    <tr>\n",
              "      <th>3</th>\n",
              "      <td>FBI Russia probe helped by Australian diplomat...</td>\n",
              "      <td>WASHINGTON (Reuters) - Trump campaign adviser ...</td>\n",
              "      <td>politicsNews</td>\n",
              "      <td>December 30, 2017</td>\n",
              "      <td>1</td>\n",
              "    </tr>\n",
              "    <tr>\n",
              "      <th>4</th>\n",
              "      <td>Trump wants Postal Service to charge 'much mor...</td>\n",
              "      <td>SEATTLE/WASHINGTON (Reuters) - President Donal...</td>\n",
              "      <td>politicsNews</td>\n",
              "      <td>December 29, 2017</td>\n",
              "      <td>1</td>\n",
              "    </tr>\n",
              "  </tbody>\n",
              "</table>\n",
              "</div>\n",
              "      <button class=\"colab-df-convert\" onclick=\"convertToInteractive('df-f4926426-1cda-466d-929a-1cf34787c66e')\"\n",
              "              title=\"Convert this dataframe to an interactive table.\"\n",
              "              style=\"display:none;\">\n",
              "        \n",
              "  <svg xmlns=\"http://www.w3.org/2000/svg\" height=\"24px\"viewBox=\"0 0 24 24\"\n",
              "       width=\"24px\">\n",
              "    <path d=\"M0 0h24v24H0V0z\" fill=\"none\"/>\n",
              "    <path d=\"M18.56 5.44l.94 2.06.94-2.06 2.06-.94-2.06-.94-.94-2.06-.94 2.06-2.06.94zm-11 1L8.5 8.5l.94-2.06 2.06-.94-2.06-.94L8.5 2.5l-.94 2.06-2.06.94zm10 10l.94 2.06.94-2.06 2.06-.94-2.06-.94-.94-2.06-.94 2.06-2.06.94z\"/><path d=\"M17.41 7.96l-1.37-1.37c-.4-.4-.92-.59-1.43-.59-.52 0-1.04.2-1.43.59L10.3 9.45l-7.72 7.72c-.78.78-.78 2.05 0 2.83L4 21.41c.39.39.9.59 1.41.59.51 0 1.02-.2 1.41-.59l7.78-7.78 2.81-2.81c.8-.78.8-2.07 0-2.86zM5.41 20L4 18.59l7.72-7.72 1.47 1.35L5.41 20z\"/>\n",
              "  </svg>\n",
              "      </button>\n",
              "      \n",
              "  <style>\n",
              "    .colab-df-container {\n",
              "      display:flex;\n",
              "      flex-wrap:wrap;\n",
              "      gap: 12px;\n",
              "    }\n",
              "\n",
              "    .colab-df-convert {\n",
              "      background-color: #E8F0FE;\n",
              "      border: none;\n",
              "      border-radius: 50%;\n",
              "      cursor: pointer;\n",
              "      display: none;\n",
              "      fill: #1967D2;\n",
              "      height: 32px;\n",
              "      padding: 0 0 0 0;\n",
              "      width: 32px;\n",
              "    }\n",
              "\n",
              "    .colab-df-convert:hover {\n",
              "      background-color: #E2EBFA;\n",
              "      box-shadow: 0px 1px 2px rgba(60, 64, 67, 0.3), 0px 1px 3px 1px rgba(60, 64, 67, 0.15);\n",
              "      fill: #174EA6;\n",
              "    }\n",
              "\n",
              "    [theme=dark] .colab-df-convert {\n",
              "      background-color: #3B4455;\n",
              "      fill: #D2E3FC;\n",
              "    }\n",
              "\n",
              "    [theme=dark] .colab-df-convert:hover {\n",
              "      background-color: #434B5C;\n",
              "      box-shadow: 0px 1px 3px 1px rgba(0, 0, 0, 0.15);\n",
              "      filter: drop-shadow(0px 1px 2px rgba(0, 0, 0, 0.3));\n",
              "      fill: #FFFFFF;\n",
              "    }\n",
              "  </style>\n",
              "\n",
              "      <script>\n",
              "        const buttonEl =\n",
              "          document.querySelector('#df-f4926426-1cda-466d-929a-1cf34787c66e button.colab-df-convert');\n",
              "        buttonEl.style.display =\n",
              "          google.colab.kernel.accessAllowed ? 'block' : 'none';\n",
              "\n",
              "        async function convertToInteractive(key) {\n",
              "          const element = document.querySelector('#df-f4926426-1cda-466d-929a-1cf34787c66e');\n",
              "          const dataTable =\n",
              "            await google.colab.kernel.invokeFunction('convertToInteractive',\n",
              "                                                     [key], {});\n",
              "          if (!dataTable) return;\n",
              "\n",
              "          const docLinkHtml = 'Like what you see? Visit the ' +\n",
              "            '<a target=\"_blank\" href=https://colab.research.google.com/notebooks/data_table.ipynb>data table notebook</a>'\n",
              "            + ' to learn more about interactive tables.';\n",
              "          element.innerHTML = '';\n",
              "          dataTable['output_type'] = 'display_data';\n",
              "          await google.colab.output.renderOutput(dataTable, element);\n",
              "          const docLink = document.createElement('div');\n",
              "          docLink.innerHTML = docLinkHtml;\n",
              "          element.appendChild(docLink);\n",
              "        }\n",
              "      </script>\n",
              "    </div>\n",
              "  </div>\n",
              "  "
            ]
          },
          "metadata": {},
          "execution_count": 48
        }
      ]
    },
    {
      "cell_type": "markdown",
      "source": [
        "* And now  concatenate and shuffle them"
      ],
      "metadata": {
        "id": "l6mJhynmsfGO"
      }
    },
    {
      "cell_type": "code",
      "source": [
        "data = pd.concat((true_data,fake_data),axis=0)\n",
        "print(data.info())"
      ],
      "metadata": {
        "trusted": true,
        "colab": {
          "base_uri": "https://localhost:8080/"
        },
        "id": "0SLoXPvFsfGP",
        "outputId": "e52c8d91-6a6f-4b40-8a9f-ae9784af800a"
      },
      "execution_count": null,
      "outputs": [
        {
          "output_type": "stream",
          "name": "stdout",
          "text": [
            "<class 'pandas.core.frame.DataFrame'>\n",
            "Int64Index: 44898 entries, 0 to 23480\n",
            "Data columns (total 5 columns):\n",
            " #   Column   Non-Null Count  Dtype \n",
            "---  ------   --------------  ----- \n",
            " 0   title    44898 non-null  object\n",
            " 1   text     44898 non-null  object\n",
            " 2   subject  44898 non-null  object\n",
            " 3   date     44898 non-null  object\n",
            " 4   label    44898 non-null  int64 \n",
            "dtypes: int64(1), object(4)\n",
            "memory usage: 2.1+ MB\n",
            "None\n"
          ]
        }
      ]
    },
    {
      "cell_type": "code",
      "source": [
        "data = data.sample(frac=1)\n",
        "data.head(10)"
      ],
      "metadata": {
        "trusted": true,
        "colab": {
          "base_uri": "https://localhost:8080/",
          "height": 581
        },
        "id": "lwaq2YLpsfGQ",
        "outputId": "4d5b53ea-d945-43ea-b172-974517b86eea"
      },
      "execution_count": null,
      "outputs": [
        {
          "output_type": "execute_result",
          "data": {
            "text/plain": [
              "                                                   title  \\\n",
              "3899   Trump's pick for Army secretary drops out: off...   \n",
              "12077  OBAMA INSPIRED COP HATE UPDATE: TX Restaurant ...   \n",
              "20259  U.S. lawmakers want 'supercharged' response to...   \n",
              "2192   Texas 'bathroom bills' stall in special legisl...   \n",
              "6909    Ted Cruz’s Daughter Reveals A Shocking Family...   \n",
              "17750  Many Nigerians displaced by Boko Haram fightin...   \n",
              "6204    Conservative Heads EXPLODE After Obama Appoin...   \n",
              "11709  NORDSTROM DISCONTINUES Ivanka Trump Brand Afte...   \n",
              "1266   Facebook will help investigators release Russi...   \n",
              "17097  Will Your Hometown Be Taking In Obama’s Refuge...   \n",
              "\n",
              "                                                    text          subject  \\\n",
              "3899   WASHINGTON (Reuters) - U.S. President Donald T...     politicsNews   \n",
              "12077  A Schlotsky s Assistant Manager in Seguin, Tex...         politics   \n",
              "20259  WASHINGTON (Reuters) - Frustrated U.S. lawmake...        worldnews   \n",
              "2192   AUSTIN, Texas (Reuters) - Texas measures to re...     politicsNews   \n",
              "6909   Ted Cruz got a brutal lesson in why he should ...             News   \n",
              "17750  ABUJA (Reuters) - The vast majority of almost ...        worldnews   \n",
              "6204   President Barack Obama made history when he ap...             News   \n",
              "11709  When Nordstrom announced on Thursday that it w...         politics   \n",
              "1266   WASHINGTON (Reuters) - Facebook Inc (FB.O) Chi...     politicsNews   \n",
              "17097  Our friend Ann Corcoran has been exposing the ...  Government News   \n",
              "\n",
              "                      date  label  \n",
              "3899          May 5, 2017       1  \n",
              "12077         Dec 22, 2016      0  \n",
              "20259  September 12, 2017       1  \n",
              "2192      August 14, 2017       1  \n",
              "6909        April 14, 2016      0  \n",
              "17750    October 11, 2017       1  \n",
              "6204          May 24, 2016      0  \n",
              "11709          Feb 8, 2017      0  \n",
              "1266     October 11, 2017       1  \n",
              "17097         Sep 16, 2015      0  "
            ],
            "text/html": [
              "\n",
              "  <div id=\"df-c1d0371f-9078-4c5d-8200-7fc8951549a0\">\n",
              "    <div class=\"colab-df-container\">\n",
              "      <div>\n",
              "<style scoped>\n",
              "    .dataframe tbody tr th:only-of-type {\n",
              "        vertical-align: middle;\n",
              "    }\n",
              "\n",
              "    .dataframe tbody tr th {\n",
              "        vertical-align: top;\n",
              "    }\n",
              "\n",
              "    .dataframe thead th {\n",
              "        text-align: right;\n",
              "    }\n",
              "</style>\n",
              "<table border=\"1\" class=\"dataframe\">\n",
              "  <thead>\n",
              "    <tr style=\"text-align: right;\">\n",
              "      <th></th>\n",
              "      <th>title</th>\n",
              "      <th>text</th>\n",
              "      <th>subject</th>\n",
              "      <th>date</th>\n",
              "      <th>label</th>\n",
              "    </tr>\n",
              "  </thead>\n",
              "  <tbody>\n",
              "    <tr>\n",
              "      <th>3899</th>\n",
              "      <td>Trump's pick for Army secretary drops out: off...</td>\n",
              "      <td>WASHINGTON (Reuters) - U.S. President Donald T...</td>\n",
              "      <td>politicsNews</td>\n",
              "      <td>May 5, 2017</td>\n",
              "      <td>1</td>\n",
              "    </tr>\n",
              "    <tr>\n",
              "      <th>12077</th>\n",
              "      <td>OBAMA INSPIRED COP HATE UPDATE: TX Restaurant ...</td>\n",
              "      <td>A Schlotsky s Assistant Manager in Seguin, Tex...</td>\n",
              "      <td>politics</td>\n",
              "      <td>Dec 22, 2016</td>\n",
              "      <td>0</td>\n",
              "    </tr>\n",
              "    <tr>\n",
              "      <th>20259</th>\n",
              "      <td>U.S. lawmakers want 'supercharged' response to...</td>\n",
              "      <td>WASHINGTON (Reuters) - Frustrated U.S. lawmake...</td>\n",
              "      <td>worldnews</td>\n",
              "      <td>September 12, 2017</td>\n",
              "      <td>1</td>\n",
              "    </tr>\n",
              "    <tr>\n",
              "      <th>2192</th>\n",
              "      <td>Texas 'bathroom bills' stall in special legisl...</td>\n",
              "      <td>AUSTIN, Texas (Reuters) - Texas measures to re...</td>\n",
              "      <td>politicsNews</td>\n",
              "      <td>August 14, 2017</td>\n",
              "      <td>1</td>\n",
              "    </tr>\n",
              "    <tr>\n",
              "      <th>6909</th>\n",
              "      <td>Ted Cruz’s Daughter Reveals A Shocking Family...</td>\n",
              "      <td>Ted Cruz got a brutal lesson in why he should ...</td>\n",
              "      <td>News</td>\n",
              "      <td>April 14, 2016</td>\n",
              "      <td>0</td>\n",
              "    </tr>\n",
              "    <tr>\n",
              "      <th>17750</th>\n",
              "      <td>Many Nigerians displaced by Boko Haram fightin...</td>\n",
              "      <td>ABUJA (Reuters) - The vast majority of almost ...</td>\n",
              "      <td>worldnews</td>\n",
              "      <td>October 11, 2017</td>\n",
              "      <td>1</td>\n",
              "    </tr>\n",
              "    <tr>\n",
              "      <th>6204</th>\n",
              "      <td>Conservative Heads EXPLODE After Obama Appoin...</td>\n",
              "      <td>President Barack Obama made history when he ap...</td>\n",
              "      <td>News</td>\n",
              "      <td>May 24, 2016</td>\n",
              "      <td>0</td>\n",
              "    </tr>\n",
              "    <tr>\n",
              "      <th>11709</th>\n",
              "      <td>NORDSTROM DISCONTINUES Ivanka Trump Brand Afte...</td>\n",
              "      <td>When Nordstrom announced on Thursday that it w...</td>\n",
              "      <td>politics</td>\n",
              "      <td>Feb 8, 2017</td>\n",
              "      <td>0</td>\n",
              "    </tr>\n",
              "    <tr>\n",
              "      <th>1266</th>\n",
              "      <td>Facebook will help investigators release Russi...</td>\n",
              "      <td>WASHINGTON (Reuters) - Facebook Inc (FB.O) Chi...</td>\n",
              "      <td>politicsNews</td>\n",
              "      <td>October 11, 2017</td>\n",
              "      <td>1</td>\n",
              "    </tr>\n",
              "    <tr>\n",
              "      <th>17097</th>\n",
              "      <td>Will Your Hometown Be Taking In Obama’s Refuge...</td>\n",
              "      <td>Our friend Ann Corcoran has been exposing the ...</td>\n",
              "      <td>Government News</td>\n",
              "      <td>Sep 16, 2015</td>\n",
              "      <td>0</td>\n",
              "    </tr>\n",
              "  </tbody>\n",
              "</table>\n",
              "</div>\n",
              "      <button class=\"colab-df-convert\" onclick=\"convertToInteractive('df-c1d0371f-9078-4c5d-8200-7fc8951549a0')\"\n",
              "              title=\"Convert this dataframe to an interactive table.\"\n",
              "              style=\"display:none;\">\n",
              "        \n",
              "  <svg xmlns=\"http://www.w3.org/2000/svg\" height=\"24px\"viewBox=\"0 0 24 24\"\n",
              "       width=\"24px\">\n",
              "    <path d=\"M0 0h24v24H0V0z\" fill=\"none\"/>\n",
              "    <path d=\"M18.56 5.44l.94 2.06.94-2.06 2.06-.94-2.06-.94-.94-2.06-.94 2.06-2.06.94zm-11 1L8.5 8.5l.94-2.06 2.06-.94-2.06-.94L8.5 2.5l-.94 2.06-2.06.94zm10 10l.94 2.06.94-2.06 2.06-.94-2.06-.94-.94-2.06-.94 2.06-2.06.94z\"/><path d=\"M17.41 7.96l-1.37-1.37c-.4-.4-.92-.59-1.43-.59-.52 0-1.04.2-1.43.59L10.3 9.45l-7.72 7.72c-.78.78-.78 2.05 0 2.83L4 21.41c.39.39.9.59 1.41.59.51 0 1.02-.2 1.41-.59l7.78-7.78 2.81-2.81c.8-.78.8-2.07 0-2.86zM5.41 20L4 18.59l7.72-7.72 1.47 1.35L5.41 20z\"/>\n",
              "  </svg>\n",
              "      </button>\n",
              "      \n",
              "  <style>\n",
              "    .colab-df-container {\n",
              "      display:flex;\n",
              "      flex-wrap:wrap;\n",
              "      gap: 12px;\n",
              "    }\n",
              "\n",
              "    .colab-df-convert {\n",
              "      background-color: #E8F0FE;\n",
              "      border: none;\n",
              "      border-radius: 50%;\n",
              "      cursor: pointer;\n",
              "      display: none;\n",
              "      fill: #1967D2;\n",
              "      height: 32px;\n",
              "      padding: 0 0 0 0;\n",
              "      width: 32px;\n",
              "    }\n",
              "\n",
              "    .colab-df-convert:hover {\n",
              "      background-color: #E2EBFA;\n",
              "      box-shadow: 0px 1px 2px rgba(60, 64, 67, 0.3), 0px 1px 3px 1px rgba(60, 64, 67, 0.15);\n",
              "      fill: #174EA6;\n",
              "    }\n",
              "\n",
              "    [theme=dark] .colab-df-convert {\n",
              "      background-color: #3B4455;\n",
              "      fill: #D2E3FC;\n",
              "    }\n",
              "\n",
              "    [theme=dark] .colab-df-convert:hover {\n",
              "      background-color: #434B5C;\n",
              "      box-shadow: 0px 1px 3px 1px rgba(0, 0, 0, 0.15);\n",
              "      filter: drop-shadow(0px 1px 2px rgba(0, 0, 0, 0.3));\n",
              "      fill: #FFFFFF;\n",
              "    }\n",
              "  </style>\n",
              "\n",
              "      <script>\n",
              "        const buttonEl =\n",
              "          document.querySelector('#df-c1d0371f-9078-4c5d-8200-7fc8951549a0 button.colab-df-convert');\n",
              "        buttonEl.style.display =\n",
              "          google.colab.kernel.accessAllowed ? 'block' : 'none';\n",
              "\n",
              "        async function convertToInteractive(key) {\n",
              "          const element = document.querySelector('#df-c1d0371f-9078-4c5d-8200-7fc8951549a0');\n",
              "          const dataTable =\n",
              "            await google.colab.kernel.invokeFunction('convertToInteractive',\n",
              "                                                     [key], {});\n",
              "          if (!dataTable) return;\n",
              "\n",
              "          const docLinkHtml = 'Like what you see? Visit the ' +\n",
              "            '<a target=\"_blank\" href=https://colab.research.google.com/notebooks/data_table.ipynb>data table notebook</a>'\n",
              "            + ' to learn more about interactive tables.';\n",
              "          element.innerHTML = '';\n",
              "          dataTable['output_type'] = 'display_data';\n",
              "          await google.colab.output.renderOutput(dataTable, element);\n",
              "          const docLink = document.createElement('div');\n",
              "          docLink.innerHTML = docLinkHtml;\n",
              "          element.appendChild(docLink);\n",
              "        }\n",
              "      </script>\n",
              "    </div>\n",
              "  </div>\n",
              "  "
            ]
          },
          "metadata": {},
          "execution_count": 50
        }
      ]
    },
    {
      "cell_type": "markdown",
      "source": [
        "* data is ready"
      ],
      "metadata": {
        "id": "mf258jP9sfGR"
      }
    },
    {
      "cell_type": "markdown",
      "source": [
        "# Data Overview\n",
        "\n",
        "In this section am going to check :\n",
        "\n",
        "* Is the data unbalanced?\n",
        "* How many classes in subject feature?\n",
        "\n",
        "\n",
        "## Is The Data Unbalanced?"
      ],
      "metadata": {
        "id": "BgqgbarssfGR"
      }
    },
    {
      "cell_type": "code",
      "source": [
        "sns.countplot(data[\"label\"])\n",
        "plt.show()"
      ],
      "metadata": {
        "trusted": true,
        "colab": {
          "base_uri": "https://localhost:8080/",
          "height": 334
        },
        "id": "zDOSlV5psfGS",
        "outputId": "9fafd27d-87d2-4eed-aa52-8904d2406c17"
      },
      "execution_count": null,
      "outputs": [
        {
          "output_type": "stream",
          "name": "stderr",
          "text": [
            "/usr/local/lib/python3.7/dist-packages/seaborn/_decorators.py:43: FutureWarning: Pass the following variable as a keyword arg: x. From version 0.12, the only valid positional argument will be `data`, and passing other arguments without an explicit keyword will result in an error or misinterpretation.\n",
            "  FutureWarning\n"
          ]
        },
        {
          "output_type": "display_data",
          "data": {
            "text/plain": [
              "<Figure size 432x288 with 1 Axes>"
            ],
            "image/png": "[encoded data removed]"
          },
          "metadata": {
            "needs_background": "light"
          }
        }
      ]
    },
    {
      "cell_type": "markdown",
      "source": [
        "* Fake news are a bit more but it does not create a problem. So,the data is balanced."
      ],
      "metadata": {
        "id": "cK_kKpWVsfGS"
      }
    },
    {
      "cell_type": "markdown",
      "source": [
        "## How Many Classes In Subject Feature\n"
      ],
      "metadata": {
        "id": "kiD66TkgsfGS"
      }
    },
    {
      "cell_type": "code",
      "source": [
        "data[\"subject\"].value_counts()"
      ],
      "metadata": {
        "trusted": true,
        "colab": {
          "base_uri": "https://localhost:8080/"
        },
        "id": "3IBVL8FbsfGT",
        "outputId": "a5e10097-6a60-4137-913e-b6e9797a9ad5"
      },
      "execution_count": null,
      "outputs": [
        {
          "output_type": "execute_result",
          "data": {
            "text/plain": [
              "politicsNews       11272\n",
              "worldnews          10145\n",
              "News                9050\n",
              "politics            6841\n",
              "left-news           4459\n",
              "Government News     1570\n",
              "US_News              783\n",
              "Middle-east          778\n",
              "Name: subject, dtype: int64"
            ]
          },
          "metadata": {},
          "execution_count": 52
        }
      ]
    },
    {
      "cell_type": "markdown",
      "source": [
        "* There are 8 type of subjects in the dataset.\n",
        "* Most of the dataset's label is politicsNews\n",
        "*  should encode this feature."
      ],
      "metadata": {
        "id": "ug0oQBMNsfGT"
      }
    },
    {
      "cell_type": "markdown",
      "source": [
        "# Data Preprocessing\n",
        "\n",
        "In this section I will prepare the dataset for deep learning. I will follow two main steps:\n",
        "\n",
        "1. Other Preprocessings\n",
        "1. Natural Language Processing"
      ],
      "metadata": {
        "id": "V-aPsXM0sfGT"
      }
    },
    {
      "cell_type": "markdown",
      "source": [
        "## Other Preprocessings\n",
        "\n",
        "In this main step, I will follow these steps:\n",
        "\n",
        "1. Subject Feature - One Hot Encoding\n",
        "1. Dropping Date"
      ],
      "metadata": {
        "id": "jEraqob9sfGT"
      }
    },
    {
      "cell_type": "code",
      "source": [
        "data = pd.get_dummies(data,columns=[\"subject\"])\n",
        "data.head()"
      ],
      "metadata": {
        "trusted": true,
        "colab": {
          "base_uri": "https://localhost:8080/",
          "height": 635
        },
        "id": "x6PCa1O6sfGU",
        "outputId": "cabd439f-0644-4b74-874c-1bbd8aaace38"
      },
      "execution_count": null,
      "outputs": [
        {
          "output_type": "execute_result",
          "data": {
            "text/plain": [
              "                                                   title  \\\n",
              "3899   Trump's pick for Army secretary drops out: off...   \n",
              "12077  OBAMA INSPIRED COP HATE UPDATE: TX Restaurant ...   \n",
              "20259  U.S. lawmakers want 'supercharged' response to...   \n",
              "2192   Texas 'bathroom bills' stall in special legisl...   \n",
              "6909    Ted Cruz’s Daughter Reveals A Shocking Family...   \n",
              "\n",
              "                                                    text                 date  \\\n",
              "3899   WASHINGTON (Reuters) - U.S. President Donald T...         May 5, 2017    \n",
              "12077  A Schlotsky s Assistant Manager in Seguin, Tex...         Dec 22, 2016   \n",
              "20259  WASHINGTON (Reuters) - Frustrated U.S. lawmake...  September 12, 2017    \n",
              "2192   AUSTIN, Texas (Reuters) - Texas measures to re...     August 14, 2017    \n",
              "6909   Ted Cruz got a brutal lesson in why he should ...       April 14, 2016   \n",
              "\n",
              "       label  subject_Government News  subject_Middle-east  subject_News  \\\n",
              "3899       1                        0                    0             0   \n",
              "12077      0                        0                    0             0   \n",
              "20259      1                        0                    0             0   \n",
              "2192       1                        0                    0             0   \n",
              "6909       0                        0                    0             1   \n",
              "\n",
              "       subject_US_News  subject_left-news  subject_politics  \\\n",
              "3899                 0                  0                 0   \n",
              "12077                0                  0                 1   \n",
              "20259                0                  0                 0   \n",
              "2192                 0                  0                 0   \n",
              "6909                 0                  0                 0   \n",
              "\n",
              "       subject_politicsNews  subject_worldnews  \n",
              "3899                      1                  0  \n",
              "12077                     0                  0  \n",
              "20259                     0                  1  \n",
              "2192                      1                  0  \n",
              "6909                      0                  0  "
            ],
            "text/html": [
              "\n",
              "  <div id=\"df-28d85a5e-3b41-4f44-ba12-dacfb309671b\">\n",
              "    <div class=\"colab-df-container\">\n",
              "      <div>\n",
              "<style scoped>\n",
              "    .dataframe tbody tr th:only-of-type {\n",
              "        vertical-align: middle;\n",
              "    }\n",
              "\n",
              "    .dataframe tbody tr th {\n",
              "        vertical-align: top;\n",
              "    }\n",
              "\n",
              "    .dataframe thead th {\n",
              "        text-align: right;\n",
              "    }\n",
              "</style>\n",
              "<table border=\"1\" class=\"dataframe\">\n",
              "  <thead>\n",
              "    <tr style=\"text-align: right;\">\n",
              "      <th></th>\n",
              "      <th>title</th>\n",
              "      <th>text</th>\n",
              "      <th>date</th>\n",
              "      <th>label</th>\n",
              "      <th>subject_Government News</th>\n",
              "      <th>subject_Middle-east</th>\n",
              "      <th>subject_News</th>\n",
              "      <th>subject_US_News</th>\n",
              "      <th>subject_left-news</th>\n",
              "      <th>subject_politics</th>\n",
              "      <th>subject_politicsNews</th>\n",
              "      <th>subject_worldnews</th>\n",
              "    </tr>\n",
              "  </thead>\n",
              "  <tbody>\n",
              "    <tr>\n",
              "      <th>3899</th>\n",
              "      <td>Trump's pick for Army secretary drops out: off...</td>\n",
              "      <td>WASHINGTON (Reuters) - U.S. President Donald T...</td>\n",
              "      <td>May 5, 2017</td>\n",
              "      <td>1</td>\n",
              "      <td>0</td>\n",
              "      <td>0</td>\n",
              "      <td>0</td>\n",
              "      <td>0</td>\n",
              "      <td>0</td>\n",
              "      <td>0</td>\n",
              "      <td>1</td>\n",
              "      <td>0</td>\n",
              "    </tr>\n",
              "    <tr>\n",
              "      <th>12077</th>\n",
              "      <td>OBAMA INSPIRED COP HATE UPDATE: TX Restaurant ...</td>\n",
              "      <td>A Schlotsky s Assistant Manager in Seguin, Tex...</td>\n",
              "      <td>Dec 22, 2016</td>\n",
              "      <td>0</td>\n",
              "      <td>0</td>\n",
              "      <td>0</td>\n",
              "      <td>0</td>\n",
              "      <td>0</td>\n",
              "      <td>0</td>\n",
              "      <td>1</td>\n",
              "      <td>0</td>\n",
              "      <td>0</td>\n",
              "    </tr>\n",
              "    <tr>\n",
              "      <th>20259</th>\n",
              "      <td>U.S. lawmakers want 'supercharged' response to...</td>\n",
              "      <td>WASHINGTON (Reuters) - Frustrated U.S. lawmake...</td>\n",
              "      <td>September 12, 2017</td>\n",
              "      <td>1</td>\n",
              "      <td>0</td>\n",
              "      <td>0</td>\n",
              "      <td>0</td>\n",
              "      <td>0</td>\n",
              "      <td>0</td>\n",
              "      <td>0</td>\n",
              "      <td>0</td>\n",
              "      <td>1</td>\n",
              "    </tr>\n",
              "    <tr>\n",
              "      <th>2192</th>\n",
              "      <td>Texas 'bathroom bills' stall in special legisl...</td>\n",
              "      <td>AUSTIN, Texas (Reuters) - Texas measures to re...</td>\n",
              "      <td>August 14, 2017</td>\n",
              "      <td>1</td>\n",
              "      <td>0</td>\n",
              "      <td>0</td>\n",
              "      <td>0</td>\n",
              "      <td>0</td>\n",
              "      <td>0</td>\n",
              "      <td>0</td>\n",
              "      <td>1</td>\n",
              "      <td>0</td>\n",
              "    </tr>\n",
              "    <tr>\n",
              "      <th>6909</th>\n",
              "      <td>Ted Cruz’s Daughter Reveals A Shocking Family...</td>\n",
              "      <td>Ted Cruz got a brutal lesson in why he should ...</td>\n",
              "      <td>April 14, 2016</td>\n",
              "      <td>0</td>\n",
              "      <td>0</td>\n",
              "      <td>0</td>\n",
              "      <td>1</td>\n",
              "      <td>0</td>\n",
              "      <td>0</td>\n",
              "      <td>0</td>\n",
              "      <td>0</td>\n",
              "      <td>0</td>\n",
              "    </tr>\n",
              "  </tbody>\n",
              "</table>\n",
              "</div>\n",
              "      <button class=\"colab-df-convert\" onclick=\"convertToInteractive('df-28d85a5e-3b41-4f44-ba12-dacfb309671b')\"\n",
              "              title=\"Convert this dataframe to an interactive table.\"\n",
              "              style=\"display:none;\">\n",
              "        \n",
              "  <svg xmlns=\"http://www.w3.org/2000/svg\" height=\"24px\"viewBox=\"0 0 24 24\"\n",
              "       width=\"24px\">\n",
              "    <path d=\"M0 0h24v24H0V0z\" fill=\"none\"/>\n",
              "    <path d=\"M18.56 5.44l.94 2.06.94-2.06 2.06-.94-2.06-.94-.94-2.06-.94 2.06-2.06.94zm-11 1L8.5 8.5l.94-2.06 2.06-.94-2.06-.94L8.5 2.5l-.94 2.06-2.06.94zm10 10l.94 2.06.94-2.06 2.06-.94-2.06-.94-.94-2.06-.94 2.06-2.06.94z\"/><path d=\"M17.41 7.96l-1.37-1.37c-.4-.4-.92-.59-1.43-.59-.52 0-1.04.2-1.43.59L10.3 9.45l-7.72 7.72c-.78.78-.78 2.05 0 2.83L4 21.41c.39.39.9.59 1.41.59.51 0 1.02-.2 1.41-.59l7.78-7.78 2.81-2.81c.8-.78.8-2.07 0-2.86zM5.41 20L4 18.59l7.72-7.72 1.47 1.35L5.41 20z\"/>\n",
              "  </svg>\n",
              "      </button>\n",
              "      \n",
              "  <style>\n",
              "    .colab-df-container {\n",
              "      display:flex;\n",
              "      flex-wrap:wrap;\n",
              "      gap: 12px;\n",
              "    }\n",
              "\n",
              "    .colab-df-convert {\n",
              "      background-color: #E8F0FE;\n",
              "      border: none;\n",
              "      border-radius: 50%;\n",
              "      cursor: pointer;\n",
              "      display: none;\n",
              "      fill: #1967D2;\n",
              "      height: 32px;\n",
              "      padding: 0 0 0 0;\n",
              "      width: 32px;\n",
              "    }\n",
              "\n",
              "    .colab-df-convert:hover {\n",
              "      background-color: #E2EBFA;\n",
              "      box-shadow: 0px 1px 2px rgba(60, 64, 67, 0.3), 0px 1px 3px 1px rgba(60, 64, 67, 0.15);\n",
              "      fill: #174EA6;\n",
              "    }\n",
              "\n",
              "    [theme=dark] .colab-df-convert {\n",
              "      background-color: #3B4455;\n",
              "      fill: #D2E3FC;\n",
              "    }\n",
              "\n",
              "    [theme=dark] .colab-df-convert:hover {\n",
              "      background-color: #434B5C;\n",
              "      box-shadow: 0px 1px 3px 1px rgba(0, 0, 0, 0.15);\n",
              "      filter: drop-shadow(0px 1px 2px rgba(0, 0, 0, 0.3));\n",
              "      fill: #FFFFFF;\n",
              "    }\n",
              "  </style>\n",
              "\n",
              "      <script>\n",
              "        const buttonEl =\n",
              "          document.querySelector('#df-28d85a5e-3b41-4f44-ba12-dacfb309671b button.colab-df-convert');\n",
              "        buttonEl.style.display =\n",
              "          google.colab.kernel.accessAllowed ? 'block' : 'none';\n",
              "\n",
              "        async function convertToInteractive(key) {\n",
              "          const element = document.querySelector('#df-28d85a5e-3b41-4f44-ba12-dacfb309671b');\n",
              "          const dataTable =\n",
              "            await google.colab.kernel.invokeFunction('convertToInteractive',\n",
              "                                                     [key], {});\n",
              "          if (!dataTable) return;\n",
              "\n",
              "          const docLinkHtml = 'Like what you see? Visit the ' +\n",
              "            '<a target=\"_blank\" href=https://colab.research.google.com/notebooks/data_table.ipynb>data table notebook</a>'\n",
              "            + ' to learn more about interactive tables.';\n",
              "          element.innerHTML = '';\n",
              "          dataTable['output_type'] = 'display_data';\n",
              "          await google.colab.output.renderOutput(dataTable, element);\n",
              "          const docLink = document.createElement('div');\n",
              "          docLink.innerHTML = docLinkHtml;\n",
              "          element.appendChild(docLink);\n",
              "        }\n",
              "      </script>\n",
              "    </div>\n",
              "  </div>\n",
              "  "
            ]
          },
          "metadata": {},
          "execution_count": 53
        }
      ]
    },
    {
      "cell_type": "code",
      "source": [
        "data = data.drop(\"date\",axis=1)\n",
        "data.info()"
      ],
      "metadata": {
        "trusted": true,
        "colab": {
          "base_uri": "https://localhost:8080/"
        },
        "id": "YFhKlWbAsfGU",
        "outputId": "a439eb41-998c-4ec2-ef7c-9d0e917d5da5"
      },
      "execution_count": null,
      "outputs": [
        {
          "output_type": "stream",
          "name": "stdout",
          "text": [
            "<class 'pandas.core.frame.DataFrame'>\n",
            "Int64Index: 44898 entries, 3899 to 19437\n",
            "Data columns (total 11 columns):\n",
            " #   Column                   Non-Null Count  Dtype \n",
            "---  ------                   --------------  ----- \n",
            " 0   title                    44898 non-null  object\n",
            " 1   text                     44898 non-null  object\n",
            " 2   label                    44898 non-null  int64 \n",
            " 3   subject_Government News  44898 non-null  uint8 \n",
            " 4   subject_Middle-east      44898 non-null  uint8 \n",
            " 5   subject_News             44898 non-null  uint8 \n",
            " 6   subject_US_News          44898 non-null  uint8 \n",
            " 7   subject_left-news        44898 non-null  uint8 \n",
            " 8   subject_politics         44898 non-null  uint8 \n",
            " 9   subject_politicsNews     44898 non-null  uint8 \n",
            " 10  subject_worldnews        44898 non-null  uint8 \n",
            "dtypes: int64(1), object(2), uint8(8)\n",
            "memory usage: 2.7+ MB\n"
          ]
        }
      ]
    },
    {
      "cell_type": "markdown",
      "source": [
        "## Natural Language Processing\n",
        "Finally we came our most important step, natural language processing. In this step, I will process text and label features. I will start with the text"
      ],
      "metadata": {
        "id": "225DOHAFsfGU"
      }
    },
    {
      "cell_type": "code",
      "source": [
        "new_text = []\n",
        "pattern = \"[^a-zA-Z]\"\n",
        "lemma = nltk.WordNetLemmatizer()\n",
        "\n",
        "for txt in data.text:\n",
        "    \n",
        "    txt = re.sub(pattern,\" \",txt) # Cleaning\n",
        "    txt = txt.lower() # Lowering\n",
        "    txt = nltk.word_tokenize(txt) # Tokenizing\n",
        "    txt = [lemma.lemmatize(word) for word in txt] # Lemmatizing\n",
        "    txt = \" \".join(txt)\n",
        "    new_text.append(txt)\n",
        "    \n",
        "    \n",
        "new_text[0]\n",
        "    "
      ],
      "metadata": {
        "trusted": true,
        "colab": {
          "base_uri": "https://localhost:8080/",
          "height": 174
        },
        "id": "oK-SKUFzsfGU",
        "outputId": "597a575a-acf7-4771-a047-dabc71e59892"
      },
      "execution_count": null,
      "outputs": [
        {
          "output_type": "execute_result",
          "data": {
            "text/plain": [
              "'washington reuters u s president donald trump s nominee for army secretary mark green withdrew his name from consideration for the position a white house official said on friday green who is the third trump nominee for a service secretary position to withdraw ha faced criticism from right group and lawmaker over allegation about past comment regarding minority a well a lesbian gay bisexual and transgender or lgbt people in a statement green said false and misleading attack had driven him to withdraw tragically my life of public service and my christian belief have been mischaracterized and attacked by a few on the other side of the aisle for political gain he said while these false attack have no bearing on the need of the army or my qualification to serve i believe it is critical to give the president the ability to move forward with his vision to restore our military to it rightful place in the world u s senate democratic leader chuck schumer said in a statement that green s decision to stand down wa good news for all american it wa especially good for those who were personally vilified by his disparaging comment directed toward the lgbtq community muslim community latino community and more schumer said green served in the th special operation aviation regiment where he made three combat tour to the middle east'"
            ],
            "application/vnd.google.colaboratory.intrinsic+json": {
              "type": "string"
            }
          },
          "metadata": {},
          "execution_count": 55
        }
      ]
    },
    {
      "cell_type": "code",
      "source": [
        "new_title = []\n",
        "for txt in data.title:\n",
        "    \n",
        "    txt = re.sub(pattern,\" \",txt) # Cleaning\n",
        "    txt = txt.lower() # Lowering\n",
        "    txt = nltk.word_tokenize(txt) # Tokenizing\n",
        "    txt = [lemma.lemmatize(word) for word in txt] # Lemmatizing\n",
        "    txt = \" \".join(txt)\n",
        "    new_title.append(txt)\n",
        "new_title[0]\n"
      ],
      "metadata": {
        "trusted": true,
        "colab": {
          "base_uri": "https://localhost:8080/",
          "height": 35
        },
        "id": "Ib-pbLFxsfGV",
        "outputId": "72bea17b-c59a-4fc9-ac90-673a42aa37d1"
      },
      "execution_count": null,
      "outputs": [
        {
          "output_type": "execute_result",
          "data": {
            "text/plain": [
              "'trump s pick for army secretary drop out official'"
            ],
            "application/vnd.google.colaboratory.intrinsic+json": {
              "type": "string"
            }
          },
          "metadata": {},
          "execution_count": 56
        }
      ]
    },
    {
      "cell_type": "markdown",
      "source": [
        "* And now I am going to create sparce matrixes.\n"
      ],
      "metadata": {
        "id": "ObZhKpuYsfGV"
      }
    },
    {
      "cell_type": "code",
      "source": [
        "vectorizer_title = CountVectorizer(stop_words=\"english\",max_features=1000)\n",
        "vectorizer_text = CountVectorizer(stop_words=\"english\",max_features=4000)\n",
        "\n",
        "title_matrix = vectorizer_title.fit_transform(new_title).toarray() \n",
        "text_matrix = vectorizer_text.fit_transform(new_text).toarray()\n",
        "\n",
        "print(\"Finished\")"
      ],
      "metadata": {
        "trusted": true,
        "colab": {
          "base_uri": "https://localhost:8080/"
        },
        "id": "c8tpaMuVsfGV",
        "outputId": "2b69f2e8-1ff6-4e2f-f8f8-dfbc387e8907"
      },
      "execution_count": null,
      "outputs": [
        {
          "output_type": "stream",
          "name": "stdout",
          "text": [
            "Finished\n"
          ]
        }
      ]
    },
    {
      "cell_type": "markdown",
      "source": [
        "* And now let's concatenate everything."
      ],
      "metadata": {
        "id": "E2icgH37sfGV"
      }
    },
    {
      "cell_type": "code",
      "source": [
        "data.head()"
      ],
      "metadata": {
        "trusted": true,
        "colab": {
          "base_uri": "https://localhost:8080/",
          "height": 635
        },
        "id": "NMSdinHqsfGV",
        "outputId": "3e0ec04e-a7b7-4115-f336-248bbec83a5a"
      },
      "execution_count": null,
      "outputs": [
        {
          "output_type": "execute_result",
          "data": {
            "text/plain": [
              "                                                   title  \\\n",
              "3899   Trump's pick for Army secretary drops out: off...   \n",
              "12077  OBAMA INSPIRED COP HATE UPDATE: TX Restaurant ...   \n",
              "20259  U.S. lawmakers want 'supercharged' response to...   \n",
              "2192   Texas 'bathroom bills' stall in special legisl...   \n",
              "6909    Ted Cruz’s Daughter Reveals A Shocking Family...   \n",
              "\n",
              "                                                    text  label  \\\n",
              "3899   WASHINGTON (Reuters) - U.S. President Donald T...      1   \n",
              "12077  A Schlotsky s Assistant Manager in Seguin, Tex...      0   \n",
              "20259  WASHINGTON (Reuters) - Frustrated U.S. lawmake...      1   \n",
              "2192   AUSTIN, Texas (Reuters) - Texas measures to re...      1   \n",
              "6909   Ted Cruz got a brutal lesson in why he should ...      0   \n",
              "\n",
              "       subject_Government News  subject_Middle-east  subject_News  \\\n",
              "3899                         0                    0             0   \n",
              "12077                        0                    0             0   \n",
              "20259                        0                    0             0   \n",
              "2192                         0                    0             0   \n",
              "6909                         0                    0             1   \n",
              "\n",
              "       subject_US_News  subject_left-news  subject_politics  \\\n",
              "3899                 0                  0                 0   \n",
              "12077                0                  0                 1   \n",
              "20259                0                  0                 0   \n",
              "2192                 0                  0                 0   \n",
              "6909                 0                  0                 0   \n",
              "\n",
              "       subject_politicsNews  subject_worldnews  \n",
              "3899                      1                  0  \n",
              "12077                     0                  0  \n",
              "20259                     0                  1  \n",
              "2192                      1                  0  \n",
              "6909                      0                  0  "
            ],
            "text/html": [
              "\n",
              "  <div id=\"df-6e7c9c86-4c70-4385-98be-8cb6b2858fce\">\n",
              "    <div class=\"colab-df-container\">\n",
              "      <div>\n",
              "<style scoped>\n",
              "    .dataframe tbody tr th:only-of-type {\n",
              "        vertical-align: middle;\n",
              "    }\n",
              "\n",
              "    .dataframe tbody tr th {\n",
              "        vertical-align: top;\n",
              "    }\n",
              "\n",
              "    .dataframe thead th {\n",
              "        text-align: right;\n",
              "    }\n",
              "</style>\n",
              "<table border=\"1\" class=\"dataframe\">\n",
              "  <thead>\n",
              "    <tr style=\"text-align: right;\">\n",
              "      <th></th>\n",
              "      <th>title</th>\n",
              "      <th>text</th>\n",
              "      <th>label</th>\n",
              "      <th>subject_Government News</th>\n",
              "      <th>subject_Middle-east</th>\n",
              "      <th>subject_News</th>\n",
              "      <th>subject_US_News</th>\n",
              "      <th>subject_left-news</th>\n",
              "      <th>subject_politics</th>\n",
              "      <th>subject_politicsNews</th>\n",
              "      <th>subject_worldnews</th>\n",
              "    </tr>\n",
              "  </thead>\n",
              "  <tbody>\n",
              "    <tr>\n",
              "      <th>3899</th>\n",
              "      <td>Trump's pick for Army secretary drops out: off...</td>\n",
              "      <td>WASHINGTON (Reuters) - U.S. President Donald T...</td>\n",
              "      <td>1</td>\n",
              "      <td>0</td>\n",
              "      <td>0</td>\n",
              "      <td>0</td>\n",
              "      <td>0</td>\n",
              "      <td>0</td>\n",
              "      <td>0</td>\n",
              "      <td>1</td>\n",
              "      <td>0</td>\n",
              "    </tr>\n",
              "    <tr>\n",
              "      <th>12077</th>\n",
              "      <td>OBAMA INSPIRED COP HATE UPDATE: TX Restaurant ...</td>\n",
              "      <td>A Schlotsky s Assistant Manager in Seguin, Tex...</td>\n",
              "      <td>0</td>\n",
              "      <td>0</td>\n",
              "      <td>0</td>\n",
              "      <td>0</td>\n",
              "      <td>0</td>\n",
              "      <td>0</td>\n",
              "      <td>1</td>\n",
              "      <td>0</td>\n",
              "      <td>0</td>\n",
              "    </tr>\n",
              "    <tr>\n",
              "      <th>20259</th>\n",
              "      <td>U.S. lawmakers want 'supercharged' response to...</td>\n",
              "      <td>WASHINGTON (Reuters) - Frustrated U.S. lawmake...</td>\n",
              "      <td>1</td>\n",
              "      <td>0</td>\n",
              "      <td>0</td>\n",
              "      <td>0</td>\n",
              "      <td>0</td>\n",
              "      <td>0</td>\n",
              "      <td>0</td>\n",
              "      <td>0</td>\n",
              "      <td>1</td>\n",
              "    </tr>\n",
              "    <tr>\n",
              "      <th>2192</th>\n",
              "      <td>Texas 'bathroom bills' stall in special legisl...</td>\n",
              "      <td>AUSTIN, Texas (Reuters) - Texas measures to re...</td>\n",
              "      <td>1</td>\n",
              "      <td>0</td>\n",
              "      <td>0</td>\n",
              "      <td>0</td>\n",
              "      <td>0</td>\n",
              "      <td>0</td>\n",
              "      <td>0</td>\n",
              "      <td>1</td>\n",
              "      <td>0</td>\n",
              "    </tr>\n",
              "    <tr>\n",
              "      <th>6909</th>\n",
              "      <td>Ted Cruz’s Daughter Reveals A Shocking Family...</td>\n",
              "      <td>Ted Cruz got a brutal lesson in why he should ...</td>\n",
              "      <td>0</td>\n",
              "      <td>0</td>\n",
              "      <td>0</td>\n",
              "      <td>1</td>\n",
              "      <td>0</td>\n",
              "      <td>0</td>\n",
              "      <td>0</td>\n",
              "      <td>0</td>\n",
              "      <td>0</td>\n",
              "    </tr>\n",
              "  </tbody>\n",
              "</table>\n",
              "</div>\n",
              "      <button class=\"colab-df-convert\" onclick=\"convertToInteractive('df-6e7c9c86-4c70-4385-98be-8cb6b2858fce')\"\n",
              "              title=\"Convert this dataframe to an interactive table.\"\n",
              "              style=\"display:none;\">\n",
              "        \n",
              "  <svg xmlns=\"http://www.w3.org/2000/svg\" height=\"24px\"viewBox=\"0 0 24 24\"\n",
              "       width=\"24px\">\n",
              "    <path d=\"M0 0h24v24H0V0z\" fill=\"none\"/>\n",
              "    <path d=\"M18.56 5.44l.94 2.06.94-2.06 2.06-.94-2.06-.94-.94-2.06-.94 2.06-2.06.94zm-11 1L8.5 8.5l.94-2.06 2.06-.94-2.06-.94L8.5 2.5l-.94 2.06-2.06.94zm10 10l.94 2.06.94-2.06 2.06-.94-2.06-.94-.94-2.06-.94 2.06-2.06.94z\"/><path d=\"M17.41 7.96l-1.37-1.37c-.4-.4-.92-.59-1.43-.59-.52 0-1.04.2-1.43.59L10.3 9.45l-7.72 7.72c-.78.78-.78 2.05 0 2.83L4 21.41c.39.39.9.59 1.41.59.51 0 1.02-.2 1.41-.59l7.78-7.78 2.81-2.81c.8-.78.8-2.07 0-2.86zM5.41 20L4 18.59l7.72-7.72 1.47 1.35L5.41 20z\"/>\n",
              "  </svg>\n",
              "      </button>\n",
              "      \n",
              "  <style>\n",
              "    .colab-df-container {\n",
              "      display:flex;\n",
              "      flex-wrap:wrap;\n",
              "      gap: 12px;\n",
              "    }\n",
              "\n",
              "    .colab-df-convert {\n",
              "      background-color: #E8F0FE;\n",
              "      border: none;\n",
              "      border-radius: 50%;\n",
              "      cursor: pointer;\n",
              "      display: none;\n",
              "      fill: #1967D2;\n",
              "      height: 32px;\n",
              "      padding: 0 0 0 0;\n",
              "      width: 32px;\n",
              "    }\n",
              "\n",
              "    .colab-df-convert:hover {\n",
              "      background-color: #E2EBFA;\n",
              "      box-shadow: 0px 1px 2px rgba(60, 64, 67, 0.3), 0px 1px 3px 1px rgba(60, 64, 67, 0.15);\n",
              "      fill: #174EA6;\n",
              "    }\n",
              "\n",
              "    [theme=dark] .colab-df-convert {\n",
              "      background-color: #3B4455;\n",
              "      fill: #D2E3FC;\n",
              "    }\n",
              "\n",
              "    [theme=dark] .colab-df-convert:hover {\n",
              "      background-color: #434B5C;\n",
              "      box-shadow: 0px 1px 3px 1px rgba(0, 0, 0, 0.15);\n",
              "      filter: drop-shadow(0px 1px 2px rgba(0, 0, 0, 0.3));\n",
              "      fill: #FFFFFF;\n",
              "    }\n",
              "  </style>\n",
              "\n",
              "      <script>\n",
              "        const buttonEl =\n",
              "          document.querySelector('#df-6e7c9c86-4c70-4385-98be-8cb6b2858fce button.colab-df-convert');\n",
              "        buttonEl.style.display =\n",
              "          google.colab.kernel.accessAllowed ? 'block' : 'none';\n",
              "\n",
              "        async function convertToInteractive(key) {\n",
              "          const element = document.querySelector('#df-6e7c9c86-4c70-4385-98be-8cb6b2858fce');\n",
              "          const dataTable =\n",
              "            await google.colab.kernel.invokeFunction('convertToInteractive',\n",
              "                                                     [key], {});\n",
              "          if (!dataTable) return;\n",
              "\n",
              "          const docLinkHtml = 'Like what you see? Visit the ' +\n",
              "            '<a target=\"_blank\" href=https://colab.research.google.com/notebooks/data_table.ipynb>data table notebook</a>'\n",
              "            + ' to learn more about interactive tables.';\n",
              "          element.innerHTML = '';\n",
              "          dataTable['output_type'] = 'display_data';\n",
              "          await google.colab.output.renderOutput(dataTable, element);\n",
              "          const docLink = document.createElement('div');\n",
              "          docLink.innerHTML = docLinkHtml;\n",
              "          element.appendChild(docLink);\n",
              "        }\n",
              "      </script>\n",
              "    </div>\n",
              "  </div>\n",
              "  "
            ]
          },
          "metadata": {},
          "execution_count": 58
        }
      ]
    },
    {
      "cell_type": "code",
      "source": [
        "data.drop([\"title\",\"text\"],axis=1,inplace=True)\n",
        "data.info()"
      ],
      "metadata": {
        "trusted": true,
        "colab": {
          "base_uri": "https://localhost:8080/"
        },
        "id": "he815LqvsfGV",
        "outputId": "5cdc47f2-4670-465c-d072-ac60019899f2"
      },
      "execution_count": null,
      "outputs": [
        {
          "output_type": "stream",
          "name": "stdout",
          "text": [
            "<class 'pandas.core.frame.DataFrame'>\n",
            "Int64Index: 44898 entries, 3899 to 19437\n",
            "Data columns (total 9 columns):\n",
            " #   Column                   Non-Null Count  Dtype\n",
            "---  ------                   --------------  -----\n",
            " 0   label                    44898 non-null  int64\n",
            " 1   subject_Government News  44898 non-null  uint8\n",
            " 2   subject_Middle-east      44898 non-null  uint8\n",
            " 3   subject_News             44898 non-null  uint8\n",
            " 4   subject_US_News          44898 non-null  uint8\n",
            " 5   subject_left-news        44898 non-null  uint8\n",
            " 6   subject_politics         44898 non-null  uint8\n",
            " 7   subject_politicsNews     44898 non-null  uint8\n",
            " 8   subject_worldnews        44898 non-null  uint8\n",
            "dtypes: int64(1), uint8(8)\n",
            "memory usage: 2.0 MB\n"
          ]
        }
      ]
    },
    {
      "cell_type": "code",
      "source": [
        "print(data.shape)\n",
        "print(title_matrix.shape)\n",
        "print(text_matrix.shape)"
      ],
      "metadata": {
        "trusted": true,
        "colab": {
          "base_uri": "https://localhost:8080/"
        },
        "id": "jkbJu295sfGW",
        "outputId": "4456d045-2f00-4338-a7d5-e3b14c057528"
      },
      "execution_count": null,
      "outputs": [
        {
          "output_type": "stream",
          "name": "stdout",
          "text": [
            "(44898, 9)\n",
            "(44898, 1000)\n",
            "(44898, 4000)\n"
          ]
        }
      ]
    },
    {
      "cell_type": "code",
      "source": [
        "# Creating Y\n",
        "y = data.label\n",
        "# Creating X\n",
        "x = np.concatenate((np.array(data.drop(\"label\",axis=1)),title_matrix,text_matrix),axis=1)\n",
        "\n"
      ],
      "metadata": {
        "trusted": true,
        "id": "BkZiUYtisfGW"
      },
      "execution_count": null,
      "outputs": []
    },
    {
      "cell_type": "markdown",
      "source": [
        "*  checking the shapes, after that I am going to split X and Y into train and test."
      ],
      "metadata": {
        "id": "X-KXJIAksfGW"
      }
    },
    {
      "cell_type": "code",
      "source": [
        "print(x.shape)\n",
        "print(y.shape)"
      ],
      "metadata": {
        "trusted": true,
        "colab": {
          "base_uri": "https://localhost:8080/"
        },
        "id": "hqYohm92sfGW",
        "outputId": "a8a8e67f-0b21-4417-81be-b21e21ad9e25"
      },
      "execution_count": null,
      "outputs": [
        {
          "output_type": "stream",
          "name": "stdout",
          "text": [
            "(44898, 5008)\n",
            "(44898,)\n"
          ]
        }
      ]
    },
    {
      "cell_type": "code",
      "source": [
        "from sklearn.model_selection import train_test_split\n",
        "\n",
        "# Train Test Split\n",
        "X_train,X_test,Y_train,Y_test = train_test_split(x,np.array(y),test_size=0.25,random_state=1)\n",
        "print(X_train.shape)\n",
        "print(X_test.shape)\n",
        "print(Y_train.shape)\n",
        "print(Y_test.shape)\n"
      ],
      "metadata": {
        "trusted": true,
        "colab": {
          "base_uri": "https://localhost:8080/"
        },
        "id": "FRTL-8yTsfGW",
        "outputId": "ca8bf1d5-ca2f-4e08-f84c-0de7b23f0663"
      },
      "execution_count": null,
      "outputs": [
        {
          "output_type": "stream",
          "name": "stdout",
          "text": [
            "(33673, 5008)\n",
            "(11225, 5008)\n",
            "(33673,)\n",
            "(11225,)\n"
          ]
        }
      ]
    },
    {
      "cell_type": "markdown",
      "source": [
        "# Building Model Using Pytorch\n",
        "\n",
        "the data is ready, now am going to build an ANN model using pytorch. I'll use ReLU as activation function, Adam as optimizer and Cross Entropy as Loss."
      ],
      "metadata": {
        "id": "RPsfNOOYsfGX"
      }
    },
    {
      "cell_type": "code",
      "source": [
        "class ANN(nn.Module):\n",
        "    \n",
        "    def __init__(self):\n",
        "        \n",
        "        super(ANN,self).__init__() # Inhertiting\n",
        "        \n",
        "        self.linear1 = nn.Linear(5008,2000) # IN 5008 OUT 2000\n",
        "        self.relu1 = nn.ReLU() # Actfunc 1\n",
        "        \n",
        "        self.linear2 = nn.Linear(2000,500) # IN 2000 OUT 500\n",
        "        self.relu2 = nn.ReLU()\n",
        "        \n",
        "        self.linear3 = nn.Linear(500,100) # IN 500 OUT 100\n",
        "        self.relu3 = nn.ReLU()\n",
        "        \n",
        "        self.linear4 = nn.Linear(100,20) # IN 100 OUT 20\n",
        "        self.relu4 = nn.ReLU()\n",
        "        \n",
        "        self.linear5 = nn.Linear(20,2) # IN 20 OUT 2 | OUTPUT \n",
        "        \n",
        "    \n",
        "    def forward(self,x):\n",
        "        \n",
        "        out = self.linear1(x) # Input Layer \n",
        "        out = self.relu1(out)\n",
        "        \n",
        "        out = self.linear2(out) # Hidden Layer 1 \n",
        "        out = self.relu2(out)\n",
        "        \n",
        "        out = self.linear3(out) # Hidden Layer 2 \n",
        "        out = self.relu3(out)\n",
        "        \n",
        "        out = self.linear4(out) # Hidden Layer 3 \n",
        "        out = self.relu4(out)\n",
        "\n",
        "        \n",
        "        out = self.linear5(out) # Output Layer\n",
        "        \n",
        "        return out\n",
        "    \n",
        "\n",
        "model = ANN()\n",
        "optimizer = torch.optim.Adam(model.parameters(),lr=0.01)\n",
        "error = nn.CrossEntropyLoss()"
      ],
      "metadata": {
        "trusted": true,
        "id": "6eS_PknasfGX"
      },
      "execution_count": null,
      "outputs": []
    },
    {
      "cell_type": "markdown",
      "source": [
        "* the model have built, now the training"
      ],
      "metadata": {
        "id": "sjeoc3hXsfGX"
      }
    },
    {
      "cell_type": "markdown",
      "source": [
        "# Fitting Model Using Pytorch\n",
        "\n",
        "And in this stage, I will fit the model using our prepared data. I will use a for loop in order to train."
      ],
      "metadata": {
        "id": "bzE3IGVKsfGX"
      }
    },
    {
      "cell_type": "code",
      "source": [
        "# Converting numpy arrays into pytorch tensors\n",
        "X_train = torch.Tensor(X_train)\n",
        "\n",
        "# You must convert it into LongTensor. I did it once\n",
        "Y_train = torch.Tensor(Y_train).type(torch.LongTensor)\n",
        "\n",
        "X_test = torch.Tensor(X_test)\n",
        "Y_test = torch.Tensor(Y_test)\n",
        "\n",
        "EPOCHS = 20\n",
        "\n",
        "for epoch in range(EPOCHS):\n",
        "    \n",
        "    # Clearing gradients\n",
        "    optimizer.zero_grad()\n",
        "    \n",
        "    # Forward Propagation\n",
        "    outs = model(X_train)\n",
        "    \n",
        "    # Computing Loss\n",
        "    loss = error(outs,Y_train)\n",
        "    \n",
        "    # Backward propagation\n",
        "    loss.backward()\n",
        "    \n",
        "    # Updating parameters\n",
        "    optimizer.step()\n",
        "    \n",
        "    # Printing loss\n",
        "    print(f\"Loss after iteration {epoch} is {loss}\")\n",
        "    \n",
        "    "
      ],
      "metadata": {
        "trusted": true,
        "colab": {
          "base_uri": "https://localhost:8080/"
        },
        "id": "-q33T5SvsfGY",
        "outputId": "5a77fe68-8b58-4d67-f495-5e4a2632b42a"
      },
      "execution_count": null,
      "outputs": [
        {
          "output_type": "stream",
          "name": "stdout",
          "text": [
            "Loss after iteration 0 is 0.6929566860198975\n",
            "Loss after iteration 1 is 1.0821880102157593\n",
            "Loss after iteration 2 is 0.7602689266204834\n",
            "Loss after iteration 3 is 0.9926819205284119\n",
            "Loss after iteration 4 is 0.6630052328109741\n",
            "Loss after iteration 5 is 0.7018396854400635\n",
            "Loss after iteration 6 is 0.39557912945747375\n",
            "Loss after iteration 7 is 0.3872334361076355\n",
            "Loss after iteration 8 is 0.2761445939540863\n",
            "Loss after iteration 9 is 0.144939124584198\n",
            "Loss after iteration 10 is 0.17745254933834076\n",
            "Loss after iteration 11 is 0.12962934374809265\n",
            "Loss after iteration 12 is 0.08651061356067657\n",
            "Loss after iteration 13 is 0.08014033734798431\n",
            "Loss after iteration 14 is 0.05121864005923271\n",
            "Loss after iteration 15 is 0.03525891900062561\n",
            "Loss after iteration 16 is 0.0346093624830246\n",
            "Loss after iteration 17 is 0.030623186379671097\n",
            "Loss after iteration 18 is 0.021807026118040085\n",
            "Loss after iteration 19 is 0.018387721851468086\n"
          ]
        }
      ]
    },
    {
      "cell_type": "markdown",
      "source": [
        "# Evaulating Results\n",
        "\n",
        "The model is trained. Now I am going to predict X_test and after that I will evaulate the results."
      ],
      "metadata": {
        "id": "i8wnJBVpsfGY"
      }
    },
    {
      "cell_type": "code",
      "source": [
        "# Importing metrics\n",
        "from sklearn.metrics import accuracy_score,confusion_matrix\n",
        "\n",
        "\n",
        "# Prediction\n",
        "y_head = model(X_test)\n",
        "print(y_head[0])\n",
        "# Converting Prediction into labels\n",
        "y_pred = torch.max(y_head,1)[1]\n",
        "print(y_pred[0])\n",
        "\n",
        "# Accuracy score\n",
        "print(\"Model accuracy is \",accuracy_score(y_pred,Y_test))\n"
      ],
      "metadata": {
        "trusted": true,
        "colab": {
          "base_uri": "https://localhost:8080/"
        },
        "id": "Un_d69GqsfGY",
        "outputId": "3b772c4d-4a07-46b5-b25d-dd6024a33566"
      },
      "execution_count": null,
      "outputs": [
        {
          "output_type": "stream",
          "name": "stdout",
          "text": [
            "tensor([0.2445, 3.4254], grad_fn=<SelectBackward0>)\n",
            "tensor(1)\n",
            "Model accuracy is  0.9896659242761693\n"
          ]
        }
      ]
    },
    {
      "cell_type": "markdown",
      "source": [
        " Our score is %98.9. Let's check the confusion matrix"
      ],
      "metadata": {
        "id": "WYUPL7YHsfGY"
      }
    },
    {
      "cell_type": "code",
      "source": [
        "confusion_matrix = confusion_matrix(y_pred=y_pred,y_true=Y_test)\n",
        "\n",
        "fig,ax = plt.subplots(figsize=(6,6))\n",
        "sns.heatmap(confusion_matrix,annot=True,fmt=\"0.1f\",linewidths=1.5)\n",
        "plt.show()"
      ],
      "metadata": {
        "trusted": true,
        "colab": {
          "base_uri": "https://localhost:8080/",
          "height": 374
        },
        "id": "CcTFpeEusfGY",
        "outputId": "8e8d9399-0331-4eee-a952-125eb02262dc"
      },
      "execution_count": null,
      "outputs": [
        {
          "output_type": "display_data",
          "data": {
            "text/plain": [
              "<Figure size 432x432 with 2 Axes>"
            ],
            "image/png": "[encoded data removed]"
          },
          "metadata": {
            "needs_background": "light"
          }
        }
      ]
    },
    {
      "cell_type": "markdown",
      "source": [
        "# Recap:\n",
        "\n",
        "\n",
        "\n",
        "1. imported  data and libraries\n",
        "2. process the data using nlp methods.\n",
        "3.created  sparce matrixes\n",
        "4.created X and Y\n",
        "5. created test and train arrays.\n",
        "6. built a 4 Layer Model using Pytorch\n",
        "7.trained the model that i've built\n",
        "8. made predictions and evaulate them.\n"
      ],
      "metadata": {
        "id": "V6Mn6-iSsfGZ"
      }
    },
    {
      "cell_type": "code",
      "source": [
        ""
      ],
      "metadata": {
        "id": "1rqb0-jgHmjk"
      },
      "execution_count": null,
      "outputs": []
    }
  ]
}